{
 "cells": [
  {
   "cell_type": "code",
   "execution_count": 24,
   "metadata": {},
   "outputs": [],
   "source": [
    "def pythagoras(base, perpendicular):\n",
    "    return (base**2 + perpendicular**2)**0.5"
   ]
  },
  {
   "cell_type": "code",
   "execution_count": 25,
   "metadata": {},
   "outputs": [
    {
     "data": {
      "text/plain": [
       "5.0"
      ]
     },
     "execution_count": 25,
     "metadata": {},
     "output_type": "execute_result"
    }
   ],
   "source": [
    "pythagoras(3,4)"
   ]
  },
  {
   "cell_type": "code",
   "execution_count": 26,
   "metadata": {},
   "outputs": [
    {
     "data": {
      "text/plain": [
       "13.0"
      ]
     },
     "execution_count": 26,
     "metadata": {},
     "output_type": "execute_result"
    }
   ],
   "source": [
    "pythagoras(12,5)"
   ]
  },
  {
   "cell_type": "code",
   "execution_count": 27,
   "metadata": {},
   "outputs": [
    {
     "data": {
      "text/plain": [
       "10.44030650891055"
      ]
     },
     "execution_count": 27,
     "metadata": {},
     "output_type": "execute_result"
    }
   ],
   "source": [
    "pythagoras(perpendicular=3 , base=10)"
   ]
  },
  {
   "cell_type": "code",
   "execution_count": 28,
   "metadata": {},
   "outputs": [
    {
     "name": "stdout",
     "output_type": "stream",
     "text": [
      "9\n",
      "16\n",
      "121\n",
      "256\n"
     ]
    }
   ],
   "source": [
    "# lambda expression- for making anomymous function(1 line function)\n",
    "f = lambda x: x**2 + 2*x + 1\n",
    "print(f(2))\n",
    "print(f(3))\n",
    "print(f(10))\n",
    "print(f(15))"
   ]
  },
  {
   "cell_type": "code",
   "execution_count": 29,
   "metadata": {},
   "outputs": [
    {
     "name": "stdout",
     "output_type": "stream",
     "text": [
      "25\n",
      "49\n"
     ]
    }
   ],
   "source": [
    "g = lambda x, y: x**2 + 2*x*y + y**2\n",
    "print(g(2,3))\n",
    "print(g(3,4))"
   ]
  },
  {
   "cell_type": "code",
   "execution_count": 30,
   "metadata": {},
   "outputs": [],
   "source": [
    "h = lambda p,b: (p**2 + b**2)**0.5"
   ]
  },
  {
   "cell_type": "code",
   "execution_count": 31,
   "metadata": {},
   "outputs": [
    {
     "name": "stdout",
     "output_type": "stream",
     "text": [
      "5.830951894845301\n"
     ]
    }
   ],
   "source": [
    "print(h(3,5))"
   ]
  },
  {
   "cell_type": "code",
   "execution_count": 32,
   "metadata": {},
   "outputs": [
    {
     "data": {
      "text/plain": [
       "10080.0"
      ]
     },
     "execution_count": 32,
     "metadata": {},
     "output_type": "execute_result"
    }
   ],
   "source": [
    "# what is the amount after 16% dicount on 12000\n",
    "12000 * (100-16)/100"
   ]
  },
  {
   "cell_type": "code",
   "execution_count": 33,
   "metadata": {},
   "outputs": [
    {
     "name": "stdout",
     "output_type": "stream",
     "text": [
      "[840.0, 2520.0, 10919.16, 4200.0, 36959.159999999996, 8820.0]\n"
     ]
    }
   ],
   "source": [
    "price = [1000, 3000,12999, 5000, 43999, 10500]\n",
    "ans=[]\n",
    "for i in range(len(price)):\n",
    "    dis=price[i]*(1-.16)\n",
    "    ans.append(dis)\n",
    "print(ans)\n",
    "\n"
   ]
  },
  {
   "cell_type": "code",
   "execution_count": 34,
   "metadata": {},
   "outputs": [
    {
     "name": "stdout",
     "output_type": "stream",
     "text": [
      "[1000, 3000, 12999, 5000, 43999, 10500]\n",
      "[840.0, 2520.0, 10919.16, 4200.0, 36959.159999999996, 8820.0]\n"
     ]
    }
   ],
   "source": [
    "prices = [1000, 3000,12999, 5000, 43999, 10500]\n",
    "dis_prices = []\n",
    "for price in prices:\n",
    "    ans = price* (1-.16)\n",
    "    dis_prices.append(ans)\n",
    "print(prices)\n",
    "print(dis_prices)    "
   ]
  },
  {
   "cell_type": "code",
   "execution_count": 35,
   "metadata": {},
   "outputs": [
    {
     "name": "stdout",
     "output_type": "stream",
     "text": [
      "[840.0, 2520.0, 10919.16, 4200.0, 36959.159999999996, 8820.0]\n"
     ]
    }
   ],
   "source": [
    "dis_price = list(map(lambda p:p*(1-.16), prices))\n",
    "print(dis_price)"
   ]
  },
  {
   "cell_type": "code",
   "execution_count": 36,
   "metadata": {},
   "outputs": [
    {
     "name": "stdout",
     "output_type": "stream",
     "text": [
      "[1, 4, 9, 16, 25, 36, 49, 64, 441]\n"
     ]
    }
   ],
   "source": [
    "def new_func():\n",
    "    x = [1,2,3,4,5,6,7,8,21]\n",
    "    squ_x = list(map(lambda x:x**2, x))\n",
    "    print(squ_x)\n",
    "\n",
    "new_func()"
   ]
  },
  {
   "cell_type": "code",
   "execution_count": 37,
   "metadata": {},
   "outputs": [
    {
     "name": "stdout",
     "output_type": "stream",
     "text": [
      "[1, 8, 27, 64, 125, 216, 343, 512, 9261]\n"
     ]
    }
   ],
   "source": [
    "x = [1,2,3,4,5,6,7,8,21]\n",
    "squ_x = list(map(lambda x:x**3, x))\n",
    "print(squ_x)"
   ]
  }
 ],
 "metadata": {
  "kernelspec": {
   "display_name": "base",
   "language": "python",
   "name": "python3"
  },
  "language_info": {
   "codemirror_mode": {
    "name": "ipython",
    "version": 3
   },
   "file_extension": ".py",
   "mimetype": "text/x-python",
   "name": "python",
   "nbconvert_exporter": "python",
   "pygments_lexer": "ipython3",
   "version": "3.10.10"
  },
  "orig_nbformat": 4
 },
 "nbformat": 4,
 "nbformat_minor": 2
}
