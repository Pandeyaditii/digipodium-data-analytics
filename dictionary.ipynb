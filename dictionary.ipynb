{
 "cells": [
  {
   "cell_type": "code",
   "execution_count": 2,
   "metadata": {},
   "outputs": [],
   "source": [
    "lbs_info ={\n",
    "    'full name': \"lal bahadur shastri college\",\n",
    "    'short name': 'lbs',\n",
    "    'students': 440,\n",
    "    'culture': 'mood kharab bacche',\n",
    "}"
   ]
  },
  {
   "cell_type": "code",
   "execution_count": 4,
   "metadata": {},
   "outputs": [],
   "source": [
    "movie = {\n",
    "    'Suryavansham':{\n",
    "       ' streamin' :'sony max',\n",
    "        'plot':'rich father doesnot like his illetrate son',\n",
    "        'rating':10\n",
    "    },\n",
    "    'Ghajini':{\n",
    "        'plot':'rich person farget everything 15 min',\n",
    "        'rating':10,\n",
    "        'streamin':'jio cinema'\n",
    "    },\n",
    "    'veer zara':{\n",
    "        'plot':'two lovers from diff country cant live together',\n",
    "        'rating':10,\n",
    "        'streaming on':'jio cinema'\n",
    "    },\n",
    "    '3 idiots':{\n",
    "        'plot':'3 friends chill together',\n",
    "        'rating':9,\n",
    "        'streaming on ':'netflix'\n",
    "    },\n",
    "    'the karela story':{\n",
    "        'plot': 'muslim peoples torturing hindu peoples',\n",
    "        'rating':10,\n",
    "        'streaming on':'cinemas'\n",
    "    }\n",
    "}"
   ]
  },
  {
   "cell_type": "code",
   "execution_count": 6,
   "metadata": {},
   "outputs": [
    {
     "data": {
      "text/plain": [
       "{'plot': 'two lovers from diff country cant live together',\n",
       " 'rating': 10,\n",
       " 'streaming on': 'jio cinema'}"
      ]
     },
     "execution_count": 6,
     "metadata": {},
     "output_type": "execute_result"
    }
   ],
   "source": [
    "# retrive\n",
    "movie['veer zara']"
   ]
  },
  {
   "cell_type": "code",
   "execution_count": 9,
   "metadata": {},
   "outputs": [
    {
     "data": {
      "text/plain": [
       "'3 friends chill together'"
      ]
     },
     "execution_count": 9,
     "metadata": {},
     "output_type": "execute_result"
    }
   ],
   "source": [
    "#retrive\n",
    "movie['3 idiots'] ['plot']"
   ]
  },
  {
   "cell_type": "code",
   "execution_count": 10,
   "metadata": {},
   "outputs": [
    {
     "data": {
      "text/plain": [
       "[{' streamin': 'sony max',\n",
       "  'plot': 'rich father doesnot like his illetrate son',\n",
       "  'rating': 10},\n",
       " {'plot': 'rich person farget everything 15 min',\n",
       "  'rating': 10,\n",
       "  'streamin': 'jio cinema'},\n",
       " {'plot': 'two lovers from diff country cant live together',\n",
       "  'rating': 10,\n",
       "  'streaming on': 'jio cinema'},\n",
       " {'plot': '3 friends chill together', 'rating': 9, 'streaming on ': 'netflix'},\n",
       " {'plot': 'muslim peoples torturing hindu peoples',\n",
       "  'rating': 10,\n",
       "  'streaming on': 'cinemas'}]"
      ]
     },
     "execution_count": 10,
     "metadata": {},
     "output_type": "execute_result"
    }
   ],
   "source": [
    "# getting only values\n",
    "list(movie.values())"
   ]
  },
  {
   "cell_type": "code",
   "execution_count": 13,
   "metadata": {},
   "outputs": [
    {
     "data": {
      "text/plain": [
       "dict_items([('Suryavansham', {' streamin': 'sony max', 'plot': 'rich father doesnot like his illetrate son', 'rating': 10}), ('Ghajini', {'plot': 'rich person farget everything 15 min', 'rating': 10, 'streamin': 'jio cinema'}), ('veer zara', {'plot': 'two lovers from diff country cant live together', 'rating': 10, 'streaming on': 'jio cinema'}), ('3 idiots', {'plot': '3 friends chill together', 'rating': 9, 'streaming on ': 'netflix'}), ('the karela story', {'plot': 'muslim peoples torturing hindu peoples', 'rating': 10, 'streaming on': 'cinemas'})])"
      ]
     },
     "execution_count": 13,
     "metadata": {},
     "output_type": "execute_result"
    }
   ],
   "source": [
    "# getting both keys and values as pairs\n",
    "movie.items()"
   ]
  },
  {
   "cell_type": "code",
   "execution_count": 14,
   "metadata": {},
   "outputs": [
    {
     "name": "stdout",
     "output_type": "stream",
     "text": [
      "SURYAVANSHAM\n",
      " streamin      sony max\n",
      "plot           rich father doesnot like his illetrate son\n",
      "rating         10\n",
      "\n",
      "GHAJINI\n",
      "plot           rich person farget everything 15 min\n",
      "rating         10\n",
      "streamin       jio cinema\n",
      "\n",
      "VEER ZARA\n",
      "plot           two lovers from diff country cant live together\n",
      "rating         10\n",
      "streaming on   jio cinema\n",
      "\n",
      "3 IDIOTS\n",
      "plot           3 friends chill together\n",
      "rating         9\n",
      "streaming on   netflix\n",
      "\n",
      "THE KARELA STORY\n",
      "plot           muslim peoples torturing hindu peoples\n",
      "rating         10\n",
      "streaming on   cinemas\n",
      "\n"
     ]
    }
   ],
   "source": [
    "for title, details in movie.items():\n",
    "    print(title.upper())\n",
    "    for entry, value in details.items():\n",
    "        print(f'{entry:15}{value}')\n",
    "    print()\n"
   ]
  },
  {
   "cell_type": "code",
   "execution_count": 15,
   "metadata": {},
   "outputs": [
    {
     "name": "stdout",
     "output_type": "stream",
     "text": [
      "{'Suryavansham': {' streamin': 'sony max', 'plot': 'rich father doesnot like his illetrate son', 'rating': 10}, 'veer zara': {'plot': 'two lovers from diff country cant live together', 'rating': 10, 'streaming on': 'jio cinema'}, '3 idiots': {'plot': '3 friends chill together', 'rating': 9, 'streaming on ': 'netflix'}, 'the karela story': {'plot': 'muslim peoples torturing hindu peoples', 'rating': 10, 'streaming on': 'cinemas'}}\n"
     ]
    }
   ],
   "source": [
    "movie.pop('Ghajini')\n",
    "print(movie)"
   ]
  },
  {
   "cell_type": "code",
   "execution_count": null,
   "metadata": {},
   "outputs": [],
   "source": []
  }
 ],
 "metadata": {
  "kernelspec": {
   "display_name": "base",
   "language": "python",
   "name": "python3"
  },
  "language_info": {
   "codemirror_mode": {
    "name": "ipython",
    "version": 3
   },
   "file_extension": ".py",
   "mimetype": "text/x-python",
   "name": "python",
   "nbconvert_exporter": "python",
   "pygments_lexer": "ipython3",
   "version": "3.10.10"
  },
  "orig_nbformat": 4
 },
 "nbformat": 4,
 "nbformat_minor": 2
}
