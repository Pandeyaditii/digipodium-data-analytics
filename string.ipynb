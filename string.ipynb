{
 "cells": [
  {
   "cell_type": "code",
   "execution_count": null,
   "metadata": {},
   "outputs": [],
   "source": [
    "# INICIALISED THE STRING\n",
    "# S=\"\"\n",
    "#TYPECASTING\n",
    "#print(str(b))"
   ]
  },
  {
   "cell_type": "code",
   "execution_count": 5,
   "metadata": {},
   "outputs": [
    {
     "name": "stdout",
     "output_type": "stream",
     "text": [
      "12\n"
     ]
    }
   ],
   "source": [
    "# length\n",
    "s='aditi pandey'\n",
    "print(len(s))"
   ]
  },
  {
   "cell_type": "code",
   "execution_count": 2,
   "metadata": {},
   "outputs": [
    {
     "name": "stdout",
     "output_type": "stream",
     "text": [
      "i\n"
     ]
    }
   ],
   "source": [
    "# indexing\n",
    "print(s[2])"
   ]
  },
  {
   "cell_type": "code",
   "execution_count": 6,
   "metadata": {},
   "outputs": [
    {
     "name": "stdout",
     "output_type": "stream",
     "text": [
      "0 a\n",
      "1 d\n",
      "2 i\n",
      "3 t\n",
      "4 i\n",
      "5  \n",
      "6 p\n",
      "7 a\n",
      "8 n\n",
      "9 d\n",
      "10 e\n",
      "11 y\n"
     ]
    }
   ],
   "source": [
    "\n",
    "for i in range(len(s)):\n",
    "    print(i,s[i])"
   ]
  },
  {
   "cell_type": "code",
   "execution_count": 6,
   "metadata": {},
   "outputs": [
    {
     "name": "stdout",
     "output_type": "stream",
     "text": [
      "aditi pandey\n",
      "aditi\n",
      " pandey\n"
     ]
    }
   ],
   "source": [
    "# slicing\n",
    "print(s[:])\n",
    "print(s[:5])\n",
    "print(s[5:])\n"
   ]
  },
  {
   "cell_type": "code",
   "execution_count": 4,
   "metadata": {},
   "outputs": [
    {
     "name": "stdout",
     "output_type": "stream",
     "text": [
      "life before death\n",
      "72\n"
     ]
    }
   ],
   "source": [
    "msg = 'life before death, strength before weakness, journey before destination.'\n",
    "print(msg[:17])\n",
    "print(len(msg))"
   ]
  },
  {
   "cell_type": "code",
   "execution_count": 5,
   "metadata": {},
   "outputs": [
    {
     "data": {
      "text/plain": [
       "['life',\n",
       " 'before',\n",
       " 'death,',\n",
       " 'strength',\n",
       " 'before',\n",
       " 'weakness,',\n",
       " 'journey',\n",
       " 'before',\n",
       " 'destination.']"
      ]
     },
     "execution_count": 5,
     "metadata": {},
     "output_type": "execute_result"
    }
   ],
   "source": [
    "msg.split()"
   ]
  },
  {
   "cell_type": "code",
   "execution_count": 6,
   "metadata": {},
   "outputs": [
    {
     "data": {
      "text/plain": [
       "['life before death',\n",
       " ' strength before weakness',\n",
       " ' journey before destination.']"
      ]
     },
     "execution_count": 6,
     "metadata": {},
     "output_type": "execute_result"
    }
   ],
   "source": [
    "msg.split(',')"
   ]
  },
  {
   "cell_type": "code",
   "execution_count": 12,
   "metadata": {},
   "outputs": [
    {
     "name": "stdout",
     "output_type": "stream",
     "text": [
      "rain rain go away,\n",
      "come again another day,\n",
      "little jonny wants to play,\n",
      "rain rain go away.\n",
      "-x--x--x--x--x--x--x--x--x--x-\n",
      "89 num of characters\n",
      "17 num of word\n",
      "4 num of lines\n"
     ]
    }
   ],
   "source": [
    "poem = '''rain rain go away,\n",
    "come again another day,\n",
    "little jonny wants to play,\n",
    "rain rain go away.'''\n",
    "print(poem)\n",
    "print('-x-'*10)\n",
    "print(len(poem),'num of characters')\n",
    "print(len(poem.split()), 'num of word')\n",
    "print(len(poem.splitlines()), 'num of lines')"
   ]
  },
  {
   "cell_type": "code",
   "execution_count": 13,
   "metadata": {},
   "outputs": [
    {
     "data": {
      "text/plain": [
       "5"
      ]
     },
     "execution_count": 13,
     "metadata": {},
     "output_type": "execute_result"
    }
   ],
   "source": [
    "poem.count('in')"
   ]
  },
  {
   "cell_type": "code",
   "execution_count": 14,
   "metadata": {},
   "outputs": [
    {
     "name": "stdout",
     "output_type": "stream",
     "text": [
      "LIFE BEFORE DEATH, STRENGTH BEFORE WEAKNESS, JOURNEY BEFORE DESTINATION.\n",
      "life before death, strength before weakness, journey before destination.\n",
      "Life Before Death, Strength Before Weakness, Journey Before Destination.\n",
      "Life before death, strength before weakness, journey before destination.\n",
      "LIFE BEFORE DEATH, STRENGTH BEFORE WEAKNESS, JOURNEY BEFORE DESTINATION.\n"
     ]
    }
   ],
   "source": [
    "print(msg.upper())\n",
    "print(msg.lower())\n",
    "print(msg.title())\n",
    "print(msg.capitalize())\n",
    "print(msg.swapcase())"
   ]
  },
  {
   "cell_type": "code",
   "execution_count": 16,
   "metadata": {},
   "outputs": [
    {
     "name": "stdout",
     "output_type": "stream",
     "text": [
      "apple False\n",
      "apple True\n",
      "apple True\n",
      "290 True\n",
      "290 False\n",
      "290 True\n",
      "apple100 False\n",
      "apple100 False\n",
      "apple100 True\n"
     ]
    }
   ],
   "source": [
    "a= 'apple'\n",
    "b= '290'\n",
    "c= 'apple100'\n",
    "print(a, a.isnumeric()) # check if all character are numeric\n",
    "print(a, a.isalpha()) # check if all character are alphabets\n",
    "print(a, a.isalnum()) # check if all character are alphabets\n",
    "print(b, b.isnumeric()) # check if all character are numeric\n",
    "print(b, b.isalpha()) # check if all character are alphabets\n",
    "print(b, b.isalnum()) # check if all character are alphabets\n",
    "print(c, c.isnumeric()) # check if all character are numeric\n",
    "print(c, c.isalpha()) # check if all character are alphabets\n",
    "print(c, c.isalnum()) # check if all character are alphabets"
   ]
  },
  {
   "cell_type": "code",
   "execution_count": 18,
   "metadata": {},
   "outputs": [
    {
     "name": "stdout",
     "output_type": "stream",
     "text": [
      "pain rain go away,\n",
      "come again another day,\n",
      "little jonny wants to play,\n",
      "rain rain go away.\n"
     ]
    }
   ],
   "source": [
    "print(poem.replace('rain','pain',1))"
   ]
  },
  {
   "cell_type": "code",
   "execution_count": null,
   "metadata": {},
   "outputs": [],
   "source": []
  }
 ],
 "metadata": {
  "kernelspec": {
   "display_name": "base",
   "language": "python",
   "name": "python3"
  },
  "language_info": {
   "codemirror_mode": {
    "name": "ipython",
    "version": 3
   },
   "file_extension": ".py",
   "mimetype": "text/x-python",
   "name": "python",
   "nbconvert_exporter": "python",
   "pygments_lexer": "ipython3",
   "version": "3.10.10"
  },
  "orig_nbformat": 4
 },
 "nbformat": 4,
 "nbformat_minor": 2
}
