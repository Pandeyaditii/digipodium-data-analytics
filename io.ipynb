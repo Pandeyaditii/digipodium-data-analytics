{
 "cells": [
  {
   "cell_type": "code",
   "execution_count": 4,
   "metadata": {},
   "outputs": [
    {
     "name": "stdout",
     "output_type": "stream",
     "text": [
      "Tessa\n"
     ]
    }
   ],
   "source": [
    "name= \"Tessa\"\n",
    "print(name)"
   ]
  },
  {
   "cell_type": "code",
   "execution_count": 2,
   "metadata": {},
   "outputs": [],
   "source": [
    "city = input('enter your city')"
   ]
  },
  {
   "cell_type": "code",
   "execution_count": 6,
   "metadata": {},
   "outputs": [
    {
     "name": "stdout",
     "output_type": "stream",
     "text": [
      "seattle university BCA 10\n"
     ]
    }
   ],
   "source": [
    "college = input('enter your college name')\n",
    "klass = input('enter your klass')\n",
    "iq = input('enter your iq')\n",
    "print(college, klass, iq)"
   ]
  },
  {
   "cell_type": "code",
   "execution_count": 11,
   "metadata": {},
   "outputs": [
    {
     "name": "stdout",
     "output_type": "stream",
     "text": [
      "Tessa | seattle | seattle university | BCA | 10\n"
     ]
    }
   ],
   "source": [
    "print(name,city,college,klass,iq, sep=' | ')"
   ]
  },
  {
   "cell_type": "code",
   "execution_count": 13,
   "metadata": {},
   "outputs": [
    {
     "data": {
      "text/plain": [
       "'hello seattle'"
      ]
     },
     "execution_count": 13,
     "metadata": {},
     "output_type": "execute_result"
    }
   ],
   "source": [
    "f'hello {city}'"
   ]
  },
  {
   "cell_type": "code",
   "execution_count": 16,
   "metadata": {},
   "outputs": [
    {
     "name": "stdout",
     "output_type": "stream",
     "text": [
      "hi, i am Tessa\n",
      "i live in seattle\n",
      "i study in BCA\n",
      "i an in BCA\n",
      "my iq is 10\n"
     ]
    }
   ],
   "source": [
    "print(f'hi, i am {name}')\n",
    "print(f'i live in {city}')\n",
    "print(f'i study in {klass}')\n",
    "print(f'i an in {klass}')\n",
    "print(f'my iq is {iq}')\n"
   ]
  },
  {
   "cell_type": "code",
   "execution_count": 18,
   "metadata": {},
   "outputs": [
    {
     "name": "stdout",
     "output_type": "stream",
     "text": [
      "hi,i am Tessa and i live in seattle and i study in seattle university and my iq is 10\n"
     ]
    }
   ],
   "source": [
    "print(f'hi,i am {name} and i live in {city} and i study in {college} and my iq is {iq}')"
   ]
  },
  {
   "cell_type": "code",
   "execution_count": null,
   "metadata": {},
   "outputs": [],
   "source": []
  }
 ],
 "metadata": {
  "kernelspec": {
   "display_name": "base",
   "language": "python",
   "name": "python3"
  },
  "language_info": {
   "codemirror_mode": {
    "name": "ipython",
    "version": 3
   },
   "file_extension": ".py",
   "mimetype": "text/x-python",
   "name": "python",
   "nbconvert_exporter": "python",
   "pygments_lexer": "ipython3",
   "version": "3.10.10"
  },
  "orig_nbformat": 4
 },
 "nbformat": 4,
 "nbformat_minor": 2
}
