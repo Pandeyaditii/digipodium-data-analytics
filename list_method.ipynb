{
 "cells": [
  {
   "cell_type": "code",
   "execution_count": 20,
   "metadata": {},
   "outputs": [
    {
     "name": "stdout",
     "output_type": "stream",
     "text": [
      "[1, 2, 3, 'aditi', 'aditi pandey']\n",
      "[1, 'python', 2, 3, 'aditi', 'aditi pandey']\n"
     ]
    }
   ],
   "source": [
    "arr =[1,2,3,'aditi']\n",
    "# arr_name.append(value)\n",
    "arr.append('aditi pandey')\n",
    "print(arr)\n",
    "# insert (idx,value)\n",
    "# 0,1,2,3,4,5,6,7,8,9\n",
    "arr.insert(1,'python')\n",
    "print(arr)"
   ]
  },
  {
   "cell_type": "code",
   "execution_count": 3,
   "metadata": {},
   "outputs": [
    {
     "name": "stdout",
     "output_type": "stream",
     "text": [
      "aditi pandey\n",
      "[1, 'python', 2, 3, 'aditi']\n",
      "python\n",
      "[1, 2, 3, 'aditi']\n"
     ]
    }
   ],
   "source": [
    "# delete\n",
    "x =arr.pop()\n",
    "print(x)\n",
    "print(arr)\n",
    "print(arr.pop(1))\n",
    "print(arr)"
   ]
  },
  {
   "cell_type": "code",
   "execution_count": 4,
   "metadata": {},
   "outputs": [
    {
     "name": "stdout",
     "output_type": "stream",
     "text": [
      "[1, 2, 3]\n"
     ]
    }
   ],
   "source": [
    "# remove\n",
    "arr.remove('aditi')\n",
    "print(arr)"
   ]
  },
  {
   "cell_type": "code",
   "execution_count": 5,
   "metadata": {},
   "outputs": [
    {
     "name": "stdout",
     "output_type": "stream",
     "text": [
      "1000\n",
      "-1\n"
     ]
    }
   ],
   "source": [
    "# max\n",
    "arr1=[1,2,3,4,5,6,1000,-1,0,124]\n",
    "print(max(arr1))\n",
    "print(min(arr1))"
   ]
  },
  {
   "cell_type": "code",
   "execution_count": 8,
   "metadata": {},
   "outputs": [
    {
     "name": "stdout",
     "output_type": "stream",
     "text": [
      "[1, 2, 3, 4, 5, 6, 1000, -1, 0, 124]\n",
      "[124, 0, -1, 1000, 6, 5, 4, 3, 2, 1]\n"
     ]
    }
   ],
   "source": [
    "# reverse\n",
    "arr1.reverse()\n",
    "print(arr1)\n",
    "#second method\n",
    "print(arr1[::-1])\n"
   ]
  },
  {
   "cell_type": "code",
   "execution_count": 9,
   "metadata": {},
   "outputs": [
    {
     "name": "stdout",
     "output_type": "stream",
     "text": [
      "1\n"
     ]
    }
   ],
   "source": [
    "# count\n",
    "arr1=[1,2,3,4,1,1,1]\n",
    "print(arr1.count(3))"
   ]
  },
  {
   "cell_type": "code",
   "execution_count": 13,
   "metadata": {},
   "outputs": [
    {
     "name": "stdout",
     "output_type": "stream",
     "text": [
      "[-12345, -1, 0, 1, 23, 123, 1000]\n"
     ]
    }
   ],
   "source": [
    "# sort\n",
    "arr=[0,1,-1,123,-12345,1000,23]\n",
    "arr.sort()\n",
    "print(arr)"
   ]
  },
  {
   "cell_type": "code",
   "execution_count": 15,
   "metadata": {},
   "outputs": [
    {
     "name": "stdout",
     "output_type": "stream",
     "text": [
      "[1000, 123, 23, 3, 2, 1, -12345]\n"
     ]
    }
   ],
   "source": [
    "arr1=[1,2,3,123,-12345,1000,23]\n",
    "arr1.sort(reverse=True)\n",
    "print(arr1)"
   ]
  },
  {
   "cell_type": "code",
   "execution_count": 19,
   "metadata": {},
   "outputs": [
    {
     "name": "stdout",
     "output_type": "stream",
     "text": [
      "[1, 2, 3, 4, 1, 2, 3, 4, -1234, 4, 5, 7]\n"
     ]
    }
   ],
   "source": [
    "# extend\n",
    "arr1=[1,2,3,4]\n",
    "arr1.extend([1,2,3,4,-1234,4,5,7])\n",
    "print(arr1)"
   ]
  },
  {
   "cell_type": "code",
   "execution_count": null,
   "metadata": {},
   "outputs": [],
   "source": [
    "\n"
   ]
  }
 ],
 "metadata": {
  "kernelspec": {
   "display_name": "base",
   "language": "python",
   "name": "python3"
  },
  "language_info": {
   "codemirror_mode": {
    "name": "ipython",
    "version": 3
   },
   "file_extension": ".py",
   "mimetype": "text/x-python",
   "name": "python",
   "nbconvert_exporter": "python",
   "pygments_lexer": "ipython3",
   "version": "3.10.10"
  },
  "orig_nbformat": 4
 },
 "nbformat": 4,
 "nbformat_minor": 2
}
