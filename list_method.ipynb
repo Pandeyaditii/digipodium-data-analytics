{
 "cells": [
  {
   "cell_type": "code",
   "execution_count": 2,
   "metadata": {},
   "outputs": [
    {
     "name": "stdout",
     "output_type": "stream",
     "text": [
      "[1, 2, 3, 'aditi', 'aditi pandey']\n",
      "[1, 'python', 2, 3, 'aditi', 'aditi pandey']\n"
     ]
    }
   ],
   "source": [
    "arr =[1,2,3,'aditi']\n",
    "# arr_name.append(value)\n",
    "arr.append('aditi pandey')\n",
    "print(arr)\n",
    "# insert (idx,value)\n",
    "arr.insert(1,'python')\n",
    "print(arr)"
   ]
  },
  {
   "cell_type": "code",
   "execution_count": 3,
   "metadata": {},
   "outputs": [
    {
     "name": "stdout",
     "output_type": "stream",
     "text": [
      "aditi pandey\n",
      "[1, 'python', 2, 3, 'aditi']\n",
      "python\n",
      "[1, 2, 3, 'aditi']\n"
     ]
    }
   ],
   "source": [
    "# delete\n",
    "x =arr.pop()\n",
    "print(x)\n",
    "print(arr)\n",
    "print(arr.pop(1))\n",
    "print(arr)"
   ]
  },
  {
   "cell_type": "code",
   "execution_count": 4,
   "metadata": {},
   "outputs": [
    {
     "name": "stdout",
     "output_type": "stream",
     "text": [
      "[1, 2, 3]\n"
     ]
    }
   ],
   "source": [
    "# remove\n",
    "arr.remove('aditi')\n",
    "print(arr)"
   ]
  },
  {
   "cell_type": "code",
   "execution_count": null,
   "metadata": {},
   "outputs": [],
   "source": []
  }
 ],
 "metadata": {
  "kernelspec": {
   "display_name": "base",
   "language": "python",
   "name": "python3"
  },
  "language_info": {
   "codemirror_mode": {
    "name": "ipython",
    "version": 3
   },
   "file_extension": ".py",
   "mimetype": "text/x-python",
   "name": "python",
   "nbconvert_exporter": "python",
   "pygments_lexer": "ipython3",
   "version": "3.10.10"
  },
  "orig_nbformat": 4
 },
 "nbformat": 4,
 "nbformat_minor": 2
}
