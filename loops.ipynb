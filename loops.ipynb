{
 "cells": [
  {
   "attachments": {},
   "cell_type": "markdown",
   "metadata": {},
   "source": [
    "# for and while loops\n",
    "### for - step based loop\n",
    "\n",
    "for i in range(10):\n",
    "  print(i)\n",
    "\n",
    "### while - condition based looop\n",
    "````\n",
    " i = 0\n",
    " while i< 1o:\n",
    " print(i)\n",
    " i =+ 1\n",
    " ````\n",
    "\n",
    " - used for\n",
    "   - iterating until a condition met"
   ]
  },
  {
   "cell_type": "code",
   "execution_count": 1,
   "metadata": {},
   "outputs": [],
   "source": [
    "movies = ['koi mill gys', 'half girlfriend', 'padmavat', 'money heist','kungfu panda', 'stranger things' ,\n",
    "         'the lion king', 'DDLJ' , 'aadipurush' , 'harry potter']"
   ]
  },
  {
   "cell_type": "code",
   "execution_count": 2,
   "metadata": {},
   "outputs": [
    {
     "name": "stdout",
     "output_type": "stream",
     "text": [
      "total movies = 10\n"
     ]
    }
   ],
   "source": [
    "print(f'total movies = {len(movies)}')"
   ]
  },
  {
   "cell_type": "code",
   "execution_count": 3,
   "metadata": {},
   "outputs": [
    {
     "name": "stdout",
     "output_type": "stream",
     "text": [
      "koi mill gys\n",
      "half girlfriend\n",
      "padmavat\n",
      "money heist\n",
      "kungfu panda\n",
      "stranger things\n",
      "the lion king\n",
      "DDLJ\n",
      "aadipurush\n",
      "harry potter\n"
     ]
    }
   ],
   "source": [
    "for movie in movies:\n",
    "    print(movie)"
   ]
  },
  {
   "cell_type": "code",
   "execution_count": 6,
   "metadata": {},
   "outputs": [
    {
     "name": "stdout",
     "output_type": "stream",
     "text": [
      "koi mill gys                   12\n",
      "half girlfriend                15\n",
      "padmavat                       8\n",
      "money heist                    11\n",
      "kungfu panda                   12\n",
      "stranger things                15\n",
      "the lion king                  13\n",
      "DDLJ                           4\n",
      "aadipurush                     10\n",
      "harry potter                   12\n"
     ]
    }
   ],
   "source": [
    "for movie in movies:\n",
    "    print(f'{movie:30} {len(movie)}')"
   ]
  },
  {
   "cell_type": "code",
   "execution_count": 7,
   "metadata": {},
   "outputs": [
    {
     "name": "stdout",
     "output_type": "stream",
     "text": [
      "32 1024\n",
      "56 3136\n",
      "23 529\n",
      "56 3136\n",
      "12 144\n",
      "67 4489\n",
      "56 3136\n",
      "7 49\n",
      "2 4\n"
     ]
    }
   ],
   "source": [
    "nums = [32,56,23,56,12,67,56,7,2]\n",
    "for i in nums:\n",
    "    print(i, i**2)"
   ]
  },
  {
   "cell_type": "code",
   "execution_count": 8,
   "metadata": {},
   "outputs": [
    {
     "name": "stdout",
     "output_type": "stream",
     "text": [
      "32 1024\n",
      "56 3136\n",
      "56 3136\n",
      "12 144\n",
      "56 3136\n",
      "2 4\n"
     ]
    }
   ],
   "source": [
    "for i in nums:\n",
    "    if i % 2 ==0:\n",
    "        print(i, i**2)"
   ]
  },
  {
   "cell_type": "code",
   "execution_count": 9,
   "metadata": {},
   "outputs": [
    {
     "data": {
      "text/plain": [
       "311"
      ]
     },
     "execution_count": 9,
     "metadata": {},
     "output_type": "execute_result"
    }
   ],
   "source": [
    "sum(nums)"
   ]
  },
  {
   "cell_type": "code",
   "execution_count": 11,
   "metadata": {},
   "outputs": [
    {
     "name": "stdout",
     "output_type": "stream",
     "text": [
      "214\n"
     ]
    }
   ],
   "source": [
    "total_evens = 0\n",
    "for i in nums:\n",
    "    if i % 2 == 0:\n",
    "        total_evens += i\n",
    "print(total_evens)"
   ]
  },
  {
   "cell_type": "code",
   "execution_count": 12,
   "metadata": {},
   "outputs": [
    {
     "name": "stdout",
     "output_type": "stream",
     "text": [
      "32\n",
      "56\n",
      "23\n",
      "56\n",
      "12\n",
      "67\n"
     ]
    }
   ],
   "source": [
    "for i in nums:\n",
    "    print(i)\n",
    "    if i > 60:\n",
    "        break"
   ]
  },
  {
   "cell_type": "code",
   "execution_count": 16,
   "metadata": {},
   "outputs": [
    {
     "name": "stdout",
     "output_type": "stream",
     "text": [
      "apple\n",
      "potato\n"
     ]
    }
   ],
   "source": [
    "x = [\"apple\", \"potato\", '', \"orange\", \"mango\"]\n",
    "for item in x:\n",
    "    if len(item) == 0:\n",
    "        break\n",
    "    print(item) "
   ]
  },
  {
   "cell_type": "code",
   "execution_count": 17,
   "metadata": {},
   "outputs": [
    {
     "name": "stdout",
     "output_type": "stream",
     "text": [
      "Invalid username/ password\n",
      "Invalid username/ password\n",
      "Login succesful\n"
     ]
    }
   ],
   "source": [
    "errors = 0\n",
    "while True:\n",
    "    username = input('Enter username: ')\n",
    "    password = input('Enter password: ')\n",
    "    if username == 'admin' and password =='secret':\n",
    "        print('Login succesful')\n",
    "        break\n",
    "    elif errors == 3:\n",
    "        print('Too many errors')\n",
    "        break\n",
    "    else:\n",
    "        print('Invalid username/ password')\n",
    "        errors += 1"
   ]
  },
  {
   "cell_type": "code",
   "execution_count": null,
   "metadata": {},
   "outputs": [],
   "source": []
  }
 ],
 "metadata": {
  "kernelspec": {
   "display_name": "base",
   "language": "python",
   "name": "python3"
  },
  "language_info": {
   "codemirror_mode": {
    "name": "ipython",
    "version": 3
   },
   "file_extension": ".py",
   "mimetype": "text/x-python",
   "name": "python",
   "nbconvert_exporter": "python",
   "pygments_lexer": "ipython3",
   "version": "3.10.10"
  },
  "orig_nbformat": 4
 },
 "nbformat": 4,
 "nbformat_minor": 2
}
